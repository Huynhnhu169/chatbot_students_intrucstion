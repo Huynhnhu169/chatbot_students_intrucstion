{
  "cells": [
    {
      "cell_type": "code",
      "execution_count": 1,
      "metadata": {
        "colab": {
          "base_uri": "https://localhost:8080/"
        },
        "id": "m2nCEGJE4Ecm",
        "outputId": "671313c0-d68e-451c-ff95-5c1e0144187d"
      },
      "outputs": [
        {
          "output_type": "stream",
          "name": "stdout",
          "text": [
            "Mounted at /content/drive\n"
          ]
        }
      ],
      "source": [
        "from google.colab import drive\n",
        "drive.mount('/content/drive')"
      ]
    },
    {
      "cell_type": "code",
      "execution_count": 2,
      "metadata": {
        "colab": {
          "base_uri": "https://localhost:8080/"
        },
        "id": "lB8wvgiBItH-",
        "outputId": "3edfee54-0bc9-41c0-d1d7-000c9927a557"
      },
      "outputs": [
        {
          "output_type": "stream",
          "name": "stdout",
          "text": [
            "Collecting ibm_db\n",
            "  Downloading ibm_db-3.2.3-cp310-cp310-manylinux_2_17_x86_64.manylinux2014_x86_64.whl.metadata (1.4 kB)\n",
            "Downloading ibm_db-3.2.3-cp310-cp310-manylinux_2_17_x86_64.manylinux2014_x86_64.whl (43.6 MB)\n",
            "\u001b[2K   \u001b[90m━━━━━━━━━━━━━━━━━━━━━━━━━━━━━━━━━━━━━━━━\u001b[0m \u001b[32m43.6/43.6 MB\u001b[0m \u001b[31m9.2 MB/s\u001b[0m eta \u001b[36m0:00:00\u001b[0m\n",
            "\u001b[?25hInstalling collected packages: ibm_db\n",
            "Successfully installed ibm_db-3.2.3\n"
          ]
        }
      ],
      "source": [
        "!pip install ibm_db"
      ]
    },
    {
      "cell_type": "code",
      "execution_count": 3,
      "metadata": {
        "colab": {
          "base_uri": "https://localhost:8080/"
        },
        "id": "GI4e4wY8Ikr7",
        "outputId": "076a7be6-cc21-4283-a26f-d3bcfd657336"
      },
      "outputs": [
        {
          "output_type": "stream",
          "name": "stdout",
          "text": [
            "Connected to database:  bludb as user:  cyp22649 on host:  0c77d6f2-5da9-48a9-81f8-86b520b87518.bs2io90l08kqb1od8lcg.databases.appdomain.cloud\n",
            "  Tên Sinh Viên             0   Ngày Sinh           1  Mã Số      2  \\\n",
            "0  Nguyễn Văn A  Nguyễn Văn A  1999-01-15  1999-01-15  SV001  SV001   \n",
            "\n",
            "          Chuyên Ngành                    3  \n",
            "0  Công nghệ thông tin  Công nghệ thông tin  \n"
          ]
        }
      ],
      "source": [
        "import ibm_db\n",
        "import os\n",
        "import pandas as pd\n",
        "\n",
        "# IBM DB2 connection setup\n",
        "dsn_hostname = os.getenv('DB_HOST', '0c77d6f2-5da9-48a9-81f8-86b520b87518.bs2io90l08kqb1od8lcg.databases.appdomain.cloud') # change this\n",
        "dsn_uid = os.getenv('DB_UID', 'cyp22649')  # change this\n",
        "dsn_pwd = os.getenv('DB_PWD', '5CoauM9zBgPEGap9')  # change this\n",
        "dsn_port = os.getenv('DB_PORT', '31198')  # change this\n",
        "dsn_database = \"bludb\"  # change if necessary\n",
        "dsn_driver = \"{IBM DB2 ODBC DRIVER}\"\n",
        "dsn_protocol = \"TCPIP\"\n",
        "dsn_security = \"SSL\"\n",
        "\n",
        "\n",
        "# Create the dsn connection string\n",
        "dsn = (\n",
        "    \"DRIVER={0};\"\n",
        "    \"DATABASE={1};\"\n",
        "    \"HOSTNAME={2};\"\n",
        "    \"PORT={3};\"\n",
        "    \"PROTOCOL={4};\"\n",
        "    \"UID={5};\"\n",
        "    \"PWD={6};\"\n",
        "    \"SECURITY={7};\").format(dsn_driver, dsn_database, dsn_hostname, dsn_port, dsn_protocol, dsn_uid, dsn_pwd, dsn_security)\n",
        "\n",
        "# Create database connection\n",
        "try:\n",
        "    conn = ibm_db.connect(dsn, \"\", \"\")\n",
        "    print(\"Connected to database: \", dsn_database, \"as user: \", dsn_uid, \"on host: \", dsn_hostname)\n",
        "\n",
        "    # Query to get the first 5 rows from the table\n",
        "    command = \"SELECT * FROM CB106 FETCH FIRST 1 ROWS ONLY\"   # Câu lệnh SQL command = \"SELECT * FROM cb106 FETCH FIRST 1 ROWS ONLY\" đơn giản là truy vấn để lấy một dòng dữ liệu đầu tiên từ bảng cb106 trong cơ sở dữ liệu.\n",
        "                                                              # Đây là một cú pháp phổ biến trong SQL để giới hạn số lượng hàng trả về.\n",
        "    # SELECT column_name FROM cb106 FETCH FIRST 1 ROWS ONLY;  # Lấy cột column_name hàng 1\n",
        "\n",
        "    stmt = ibm_db.exec_immediate(conn, command)\n",
        "\n",
        "    # Fetch the result set\n",
        "    result = ibm_db.fetch_both(stmt)\n",
        "    rows = []\n",
        "\n",
        "    # Loop through the result and fetch the rows\n",
        "    while result:\n",
        "        rows.append(result)\n",
        "        result = ibm_db.fetch_both(stmt)\n",
        "\n",
        "    # Convert result to a pandas DataFrame for better readability\n",
        "    df = pd.DataFrame(rows)\n",
        "    print(df)\n",
        "\n",
        "except Exception as e:\n",
        "    print(\"Error connecting to the database: \", str(e))\n",
        "finally:\n",
        "    # Close the connection\n",
        "    if conn:\n",
        "        ibm_db.close(conn)\n"
      ]
    },
    {
      "cell_type": "code",
      "execution_count": 8,
      "metadata": {
        "colab": {
          "base_uri": "https://localhost:8080/",
          "height": 34
        },
        "id": "CISnjVDQ2acq",
        "outputId": "daf15855-816e-4612-aa41-5d8a2436a8e0"
      },
      "outputs": [
        {
          "output_type": "stream",
          "name": "stdout",
          "text": [
            "https://zyn4hdjdyu-496ff2e9c6d22116-5000-colab.googleusercontent.com/\n"
          ]
        }
      ],
      "source": [
        "from google.colab.output import eval_js\n",
        "print(eval_js('google.colab.kernel.proxyPort(5000)'))"
      ]
    },
    {
      "cell_type": "code",
      "execution_count": 5,
      "metadata": {
        "id": "zr6-jhYr3ZYR"
      },
      "outputs": [],
      "source": [
        "def fetch_students():\n",
        "    try:\n",
        "        conn = ibm_db.connect(dsn, \"\", \"\")\n",
        "        query = \"SELECT * FROM CB106\"\n",
        "        stmt = ibm_db.exec_immediate(conn, query)\n",
        "        rows = []\n",
        "        result = ibm_db.fetch_assoc(stmt)\n",
        "        while result:\n",
        "            rows.append(result)\n",
        "            result = ibm_db.fetch_assoc(stmt)\n",
        "        df = pd.DataFrame(rows)\n",
        "        return df\n",
        "    except Exception as e:\n",
        "        print(\"Error fetching students from DB2: \", str(e))\n",
        "        return None\n",
        "    finally:\n",
        "        if 'conn' in locals():\n",
        "            ibm_db.close(conn)\n",
        "\n",
        "# Add a student to DB2\n",
        "def add_student(name, birth_date, student_id, major):\n",
        "    try:\n",
        "        conn = ibm_db.connect(dsn, \"\", \"\")\n",
        "        query = \"\"\"\n",
        "        INSERT INTO CB106 (\"Tên Sinh Viên\", \"Ngày Sinh\", \"Mã Số\", \"Chuyên Ngành\")\n",
        "        VALUES (?, ?, ?, ?)\n",
        "        \"\"\"\n",
        "        stmt = ibm_db.prepare(conn, query)\n",
        "        ibm_db.bind_param(stmt, 1, name)\n",
        "        ibm_db.bind_param(stmt, 2, birth_date)\n",
        "        ibm_db.bind_param(stmt, 3, student_id)\n",
        "        ibm_db.bind_param(stmt, 4, major)\n",
        "        ibm_db.execute(stmt)\n",
        "    except Exception as e:\n",
        "        print(\"Error adding student to DB2: \", str(e))\n",
        "    finally:\n",
        "        if 'conn' in locals():\n",
        "            ibm_db.close(conn)\n",
        "\n",
        "\n",
        "# Delete a student from DB2\n",
        "def delete_student(student_id):\n",
        "    try:\n",
        "        conn = ibm_db.connect(dsn, \"\", \"\")\n",
        "        query = \"DELETE FROM CB106 WHERE \\\"Mã Số\\\" = ?\"\n",
        "        stmt = ibm_db.prepare(conn, query)\n",
        "        ibm_db.bind_param(stmt, 1, student_id)\n",
        "        ibm_db.execute(stmt)\n",
        "    except Exception as e:\n",
        "        print(\"Error deleting student from DB2: \", str(e))\n",
        "    finally:\n",
        "        if 'conn' in locals():\n",
        "            ibm_db.close(conn)\n",
        "\n",
        "# Update a student's information in DB2\n",
        "def update_student(student_id, name=None, birth_date=None, major=None):\n",
        "    try:\n",
        "        conn = ibm_db.connect(dsn, \"\", \"\")\n",
        "        # Base query to update the student information\n",
        "        query = \"UPDATE CB106 SET\"\n",
        "\n",
        "        updates = []\n",
        "        params = []\n",
        "\n",
        "        # Check if each field is provided and add it to the query\n",
        "        if name is not None:\n",
        "            updates.append(\"\\\"Tên Sinh Viên\\\" = ?\")\n",
        "            params.append(name)\n",
        "        if birth_date is not None:\n",
        "            updates.append(\"\\\"Ngày Sinh\\\" = ?\")\n",
        "            params.append(birth_date)\n",
        "        if major is not None:\n",
        "            updates.append(\"\\\"Chuyên Ngành\\\" = ?\")\n",
        "            params.append(major)\n",
        "\n",
        "        # Join the updates with commas and add the WHERE condition\n",
        "        if updates:\n",
        "            query += \" \" + \", \".join(updates) + \" WHERE \\\"Mã Số\\\" = ?\"\n",
        "            params.append(student_id)\n",
        "\n",
        "            stmt = ibm_db.prepare(conn, query)\n",
        "\n",
        "            # Bind parameters dynamically\n",
        "            for i, param in enumerate(params):\n",
        "                ibm_db.bind_param(stmt, i + 1, param)\n",
        "\n",
        "            ibm_db.execute(stmt)\n",
        "            print(\"Student information updated successfully.\")\n",
        "        else:\n",
        "            print(\"No fields provided to update.\")\n",
        "    except Exception as e:\n",
        "        print(\"Error updating student in DB2: \", str(e))\n",
        "    finally:\n",
        "        if 'conn' in locals():\n",
        "            ibm_db.close(conn)\n",
        "\n"
      ]
    },
    {
      "cell_type": "code",
      "execution_count": 6,
      "metadata": {
        "colab": {
          "base_uri": "https://localhost:8080/"
        },
        "id": "tDGCaK9BK2PL",
        "outputId": "d62c63f5-1bd0-465d-8670-9b4dae0d489a"
      },
      "outputs": [
        {
          "output_type": "stream",
          "name": "stdout",
          "text": [
            "/content/drive/MyDrive\n"
          ]
        }
      ],
      "source": [
        "%cd /content/drive/MyDrive"
      ]
    },
    {
      "cell_type": "code",
      "execution_count": 9,
      "metadata": {
        "colab": {
          "base_uri": "https://localhost:8080/"
        },
        "id": "me3omf47DtZ4",
        "outputId": "5dc374dd-0bc0-451f-d921-2ba2bb4a239d"
      },
      "outputs": [
        {
          "output_type": "stream",
          "name": "stdout",
          "text": [
            " * Serving Flask app '__main__'\n",
            " * Debug mode: off\n"
          ]
        },
        {
          "output_type": "stream",
          "name": "stderr",
          "text": [
            "INFO:werkzeug:\u001b[31m\u001b[1mWARNING: This is a development server. Do not use it in a production deployment. Use a production WSGI server instead.\u001b[0m\n",
            " * Running on http://127.0.0.1:5000\n",
            "INFO:werkzeug:\u001b[33mPress CTRL+C to quit\u001b[0m\n",
            "INFO:werkzeug:127.0.0.1 - - [23/Oct/2024 13:26:06] \"GET /?authuser=0 HTTP/1.1\" 200 -\n",
            "INFO:werkzeug:127.0.0.1 - - [23/Oct/2024 13:26:07] \"\u001b[33mGET /favicon.ico?authuser=0 HTTP/1.1\u001b[0m\" 404 -\n"
          ]
        }
      ],
      "source": [
        "from flask import Flask, render_template, request, redirect, url_for\n",
        "import ibm_db\n",
        "import pandas as pd\n",
        "import os\n",
        "\n",
        "\n",
        "app = Flask(__name__)\n",
        "\n",
        "@app.route('/', methods=['GET', 'POST'])\n",
        "def index():\n",
        "    if request.method == 'POST':\n",
        "        if 'add' in request.form:\n",
        "            name = request.form['name']\n",
        "            birth_date = request.form['birth_date']\n",
        "            student_id = request.form['student_id']\n",
        "            major = request.form['major']\n",
        "            # Add student to DB2\n",
        "            add_student(name, birth_date, student_id, major)\n",
        "        elif 'delete' in request.form:\n",
        "            student_id = request.form['student_id']\n",
        "            # Delete student from DB2\n",
        "            delete_student(student_id)\n",
        "        elif 'update' in request.form:\n",
        "            # Handle updating student\n",
        "            student_id = request.form['student_id']\n",
        "            name = request.form.get('name')\n",
        "            birth_date = request.form.get('birth_date')\n",
        "            major = request.form.get('major')\n",
        "            update_student(student_id, name, birth_date, major)\n",
        "        # After updating DB2, redirect to refresh the page with updated student list\n",
        "        # return redirect(url_for('index'))\n",
        "\n",
        "    # Fetch updated student list from DB2 and display\n",
        "    students = fetch_students()\n",
        "    return render_template('index.html', students=students)\n",
        "    # return\n",
        "\n",
        "# Run the Flask app\n",
        "if __name__ == '__main__':\n",
        "    app.run(port=5000)"
      ]
    },
    {
      "cell_type": "code",
      "execution_count": 7,
      "metadata": {
        "id": "CovM9sgj4ml9"
      },
      "outputs": [],
      "source": []
    }
  ],
  "metadata": {
    "colab": {
      "provenance": []
    },
    "kernelspec": {
      "display_name": "Python 3",
      "name": "python3"
    },
    "language_info": {
      "name": "python"
    }
  },
  "nbformat": 4,
  "nbformat_minor": 0
}